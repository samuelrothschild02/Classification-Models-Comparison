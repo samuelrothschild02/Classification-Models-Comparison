{
 "cells": [
  {
   "cell_type": "code",
   "execution_count": 83,
   "metadata": {},
   "outputs": [],
   "source": [
    "## Imports required for the project\n",
    "import autograd.numpy as np\n",
    "from autograd import grad \n",
    "import pandas as pd\n",
    "import sklearn\n",
    "from sklearn.calibration import CalibratedClassifierCV\n",
    "from sklearn.cluster import KMeans\n",
    "from sklearn.feature_extraction.text import TfidfVectorizer\n",
    "from sklearn.linear_model import LogisticRegression, Perceptron\n",
    "from sklearn.metrics import accuracy_score, confusion_matrix, precision_recall_fscore_support, auc, roc_auc_score, roc_curve, silhouette_score, rand_score\n",
    "from sklearn.model_selection import KFold, train_test_split\n",
    "from sklearn.svm import LinearSVC\n",
    "from scipy.sparse import hstack\n",
    "import matplotlib.pyplot as plt"
   ]
  },
  {
   "cell_type": "code",
   "execution_count": 84,
   "metadata": {},
   "outputs": [],
   "source": [
    "%matplotlib inline\n",
    "import pandas as pd\n",
    "\n",
    "def read_data(file_path):\n",
    "    return pd.read_csv(file_path, sep=',', header=0).fillna('')\n",
    "\n",
    "def preprocessing(training, test):\n",
    "    y_train = training['overall']\n",
    "    xd_train = training['reviewText']\n",
    "    xd_test = test['reviewText']\n",
    "    xs_train = training['summary'].fillna('', inplace=False)\n",
    "    xs_test = test['summary'].fillna('', inplace=False)\n",
    "    return y_train, xd_train, xd_test, xs_train, xs_test\n",
    "\n",
    "# Read in data\n",
    "training = read_data('Training.csv')\n",
    "test = read_data('Test.csv')\n",
    "\n",
    "# Preprocess data, assign training and test values, and deal with 'nas'\n",
    "y_train, xd_train, xd_test, xs_train, xs_test = preprocessing(training, test)"
   ]
  },
  {
   "cell_type": "markdown",
   "metadata": {},
   "source": [
    "# Task 1: Binary Classification"
   ]
  },
  {
   "cell_type": "markdown",
   "metadata": {},
   "source": [
    "#### Binary Cross Validation"
   ]
  },
  {
   "cell_type": "code",
   "execution_count": 85,
   "metadata": {},
   "outputs": [],
   "source": [
    "def binary_cv(model, cutoff):\n",
    "    # Define the number of folds and initialize results arrays\n",
    "    num_folds = 5\n",
    "    # Initialise results\n",
    "    results = {\n",
    "        'accuracy': np.zeros(num_folds),\n",
    "        'precision': np.zeros(num_folds),\n",
    "        'recall': np.zeros(num_folds),\n",
    "        'f1': np.zeros(num_folds),\n",
    "        'confusion': np.zeros((num_folds, 2, 2)),\n",
    "        'rocauc': np.zeros(num_folds)\n",
    "    }\n",
    "\n",
    "    # Perform cross-validation\n",
    "    # Fold\n",
    "    fold = KFold(n_splits=num_folds)\n",
    "    # Iterate over indices\n",
    "    for i, (train_index, test_index) in enumerate(fold.split(training)):\n",
    "        # Split the data into training and test sets\n",
    "        train_data = training.loc[train_index]\n",
    "        test_data = training.loc[test_index]\n",
    "\n",
    "        # Apply the model and stroe predictions\n",
    "        predictions = model(train_data, test_data, cutoff)\n",
    "\n",
    "        # Compute labels and other metrics to evaluate\n",
    "        labels = (test_data['overall'] > cutoff).astype(int)\n",
    "        precision, recall, f1, _ = precision_recall_fscore_support(labels, predictions, average='macro')\n",
    "        accuracy = accuracy_score(labels, predictions)\n",
    "        rocauc = roc_auc_score(labels, predictions, average='macro')\n",
    "        confusion = confusion_matrix(labels, predictions)\n",
    "\n",
    "        # Store the results in results for all the metrics created above\n",
    "        results['accuracy'][i] = accuracy\n",
    "        results['precision'][i] = precision\n",
    "        results['recall'][i] = recall\n",
    "        results['f1'][i] = f1\n",
    "        results['confusion'][i] = confusion\n",
    "        results['rocauc'][i] = rocauc\n",
    "\n",
    "    # Compute means\n",
    "    f1_mean = np.mean(results['f1'])\n",
    "    accuracy_mean = np.mean(results['accuracy'])\n",
    "    precision_mean = np.mean(results['precision'])\n",
    "    confusion_mean = np.mean(results['confusion'], axis=0)\n",
    "    rocauc_mean = np.mean(results['rocauc'])\n",
    "\n",
    "    # Print the results\n",
    "    print(\"Mean Confusion Matrix:\")\n",
    "    for row in confusion_mean:\n",
    "        print(row)\n",
    "    print(f\"Mean F1 Score: {f1_mean:.4f}\")\n",
    "    print(f\"Mean Accuracy: {accuracy_mean:.4f}\")\n",
    "    print(f\"Mean Precision: {precision_mean:.4f}\")\n",
    "    print(f\"Mean ROC AUC Score: {rocauc_mean:.4f}\\n\")\n"
   ]
  },
  {
   "cell_type": "markdown",
   "metadata": {},
   "source": [
    "#### Binary Logistic Regression"
   ]
  },
  {
   "cell_type": "code",
   "execution_count": 86,
   "metadata": {},
   "outputs": [
    {
     "name": "stdout",
     "output_type": "stream",
     "text": [
      "Binary Logistic Regression\n",
      "\n",
      "\n",
      "Cutoff: 1\n",
      "Mean Confusion Matrix:\n",
      "[793.2 398.2]\n",
      "[  65.4 4581. ]\n",
      "Mean F1 Score: 0.8631\n",
      "Mean Accuracy: 0.9206\n",
      "Mean Precision: 0.9182\n",
      "Mean ROC AUC Score: 0.8294\n",
      "\n",
      "Cutoff: 2\n",
      "Mean Confusion Matrix:\n",
      "[2175.2  208. ]\n",
      "[ 145.4 3309.2]\n",
      "Mean F1 Score: 0.9355\n",
      "Mean Accuracy: 0.9395\n",
      "Mean Precision: 0.9364\n",
      "Mean ROC AUC Score: 0.9351\n",
      "\n",
      "Cutoff: 3\n",
      "Mean Confusion Matrix:\n",
      "[3453.   102.6]\n",
      "[ 216.  2066.2]\n",
      "Mean F1 Score: 0.9410\n",
      "Mean Accuracy: 0.9454\n",
      "Mean Precision: 0.9452\n",
      "Mean ROC AUC Score: 0.9378\n",
      "\n",
      "Cutoff: 4\n",
      "Mean Confusion Matrix:\n",
      "[4650.4   59. ]\n",
      "[329.6 798.8]\n",
      "Mean F1 Score: 0.8783\n",
      "Mean Accuracy: 0.9334\n",
      "Mean Precision: 0.9290\n",
      "Mean ROC AUC Score: 0.8455\n",
      "\n"
     ]
    }
   ],
   "source": [
    "def binary_logistic_regression(train, test, cutoff):\n",
    "    yTrain, xdTrain, xdTest, xsTrain, xsTest = preprocessing(training, test)\n",
    "    yCutoff = np.where(yTrain <= cutoff, 0, np.where(yTrain > cutoff, 1, yTrain))\n",
    "\n",
    "    # initialize vectorizers and transform data, parameter tuning\n",
    "    revVectorizer = TfidfVectorizer(ngram_range = (1, 2), max_df = 0.99, min_df = 0.15)\n",
    "    sumVectorizer = TfidfVectorizer(ngram_range = (1, 2)) \n",
    "    \n",
    "    # Store and fit data, stack tuned params\n",
    "    reviewTextTrain = revVectorizer.fit_transform(xdTrain)\n",
    "    trainCap = sumVectorizer.fit_transform(xsTrain)\n",
    "    stack = hstack((reviewTextTrain, trainCap))\n",
    "    \n",
    "    # Transform test data and stack\n",
    "    dT = revVectorizer.transform(xdTest)\n",
    "    sT = sumVectorizer.transform(xsTest)\n",
    "    fT = hstack((dT, sT))\n",
    "    \n",
    "    # Run logistic regression\n",
    "    logistic_regression = LogisticRegression(C=2.5, max_iter=800).fit(stack, yCutoff)\n",
    "    \n",
    "    # Store and return y predicted values\n",
    "    yPred = logistic_regression.predict(fT)\n",
    "    return yPred\n",
    "\n",
    "# Print info for logistic regression\n",
    "print('Binary Logistic Regression\\n\\n')\n",
    "for cutoff in range(1,5):\n",
    "    print('Cutoff:', cutoff)\n",
    "    binary_cv(binary_logistic_regression, cutoff)\n",
    "\n",
    "    "
   ]
  },
  {
   "cell_type": "markdown",
   "metadata": {},
   "source": [
    "#### Binary Linear SVC"
   ]
  },
  {
   "cell_type": "code",
   "execution_count": 87,
   "metadata": {},
   "outputs": [
    {
     "name": "stdout",
     "output_type": "stream",
     "text": [
      "Binary Linear SVC\n",
      "\n",
      "\n",
      "Cutoff: 1\n",
      "Mean Confusion Matrix:\n",
      "[1104.2   87.2]\n",
      "[  49.8 4596.6]\n",
      "Mean F1 Score: 0.9618\n",
      "Mean Accuracy: 0.9765\n",
      "Mean Precision: 0.9666\n",
      "Mean ROC AUC Score: 0.9573\n",
      "\n",
      "Cutoff: 2\n",
      "Mean Confusion Matrix:\n",
      "[2326.    57.2]\n",
      "[  56.4 3398.2]\n",
      "Mean F1 Score: 0.9792\n",
      "Mean Accuracy: 0.9805\n",
      "Mean Precision: 0.9787\n",
      "Mean ROC AUC Score: 0.9798\n",
      "\n",
      "Cutoff: 3\n",
      "Mean Confusion Matrix:\n",
      "[3505.    50.6]\n",
      "[  39.2 2243. ]\n",
      "Mean F1 Score: 0.9835\n",
      "Mean Accuracy: 0.9846\n",
      "Mean Precision: 0.9828\n",
      "Mean ROC AUC Score: 0.9843\n",
      "\n",
      "Cutoff: 4\n",
      "Mean Confusion Matrix:\n",
      "[4663.    46.4]\n",
      "[  62.8 1065.6]\n",
      "Mean F1 Score: 0.9685\n",
      "Mean Accuracy: 0.9813\n",
      "Mean Precision: 0.9701\n",
      "Mean ROC AUC Score: 0.9671\n",
      "\n"
     ]
    }
   ],
   "source": [
    "def binary_linear_svc(train, test, cutoff):\n",
    "    yTrain, xdTrain, xdTest, xsTrain, xsTest = preprocessing(training, test)\n",
    "    y_cutoff = np.where(yTrain <= cutoff, 0, np.where(yTrain > cutoff, 1, yTrain))\n",
    "\n",
    "    # initialize vectorizers and transform data, parameter tuning\n",
    "    revVectorizer = TfidfVectorizer(ngram_range=(1, 2), max_df=0.99, min_df=0.15) \n",
    "    sumVectorizer = TfidfVectorizer(ngram_range=(1, 2))\n",
    "\n",
    "    # Store and fit data, stack tuned params\n",
    "    reviewTextTrain = revVectorizer.fit_transform(xdTrain)\n",
    "    trainCap = sumVectorizer.fit_transform(xsTrain)\n",
    "    stack = hstack((reviewTextTrain, trainCap))\n",
    "    \n",
    "    # Transform test data and stack\n",
    "    dT = revVectorizer.transform(xdTest)\n",
    "    sT = sumVectorizer.transform(xsTest)\n",
    "    fT = hstack((dT, sT))\n",
    "    \n",
    "    # Run linear svc and return y predicted values\n",
    "    yPred = LinearSVC().fit(stack, y_cutoff).predict(fT)\n",
    "    \n",
    "    return yPred\n",
    "\n",
    "# Print relevant binary linear SVC info\n",
    "print('Binary Linear SVC\\n\\n')\n",
    "for cutoff in range(1, 5):\n",
    "    print('Cutoff:', cutoff)\n",
    "    binary_cv(binary_linear_svc, cutoff)\n",
    "\n"
   ]
  },
  {
   "cell_type": "markdown",
   "metadata": {},
   "source": [
    "#### Binary Perceptron"
   ]
  },
  {
   "cell_type": "code",
   "execution_count": 88,
   "metadata": {},
   "outputs": [
    {
     "name": "stdout",
     "output_type": "stream",
     "text": [
      "Binary Perceptron\n",
      "\n",
      "\n",
      "Cutoff: 1\n",
      "Mean Confusion Matrix:\n",
      "[1162.4   29. ]\n",
      "[ 346.8 4299.6]\n",
      "Mean F1 Score: 0.9042\n",
      "Mean Accuracy: 0.9356\n",
      "Mean Precision: 0.8746\n",
      "Mean ROC AUC Score: 0.9504\n",
      "\n",
      "Cutoff: 2\n",
      "Mean Confusion Matrix:\n",
      "[2331.6   51.6]\n",
      "[ 165.2 3289.4]\n",
      "Mean F1 Score: 0.9606\n",
      "Mean Accuracy: 0.9629\n",
      "Mean Precision: 0.9568\n",
      "Mean ROC AUC Score: 0.9654\n",
      "\n",
      "Cutoff: 3\n",
      "Mean Confusion Matrix:\n",
      "[3484.    71.6]\n",
      "[  38.  2244.2]\n",
      "Mean F1 Score: 0.9799\n",
      "Mean Accuracy: 0.9812\n",
      "Mean Precision: 0.9782\n",
      "Mean ROC AUC Score: 0.9818\n",
      "\n",
      "Cutoff: 4\n",
      "Mean Confusion Matrix:\n",
      "[4560.   149.4]\n",
      "[  49.  1079.4]\n",
      "Mean F1 Score: 0.9444\n",
      "Mean Accuracy: 0.9660\n",
      "Mean Precision: 0.9295\n",
      "Mean ROC AUC Score: 0.9622\n",
      "\n"
     ]
    }
   ],
   "source": [
    "def binary_perceptron(train, test, cutoff):\n",
    "    yTrain, xdTrain, xdTest, xsTrain, xsTest = preprocessing(training, test)\n",
    "    y_cutoff = np.where(yTrain <= cutoff, 0, np.where(yTrain > cutoff, 1, yTrain))\n",
    "\n",
    "    # initialize vectorizers and transform data, parameter tuning\n",
    "    revVectorizer = TfidfVectorizer(ngram_range=(1, 2), max_df=0.99, min_df=0.15) \n",
    "    sumVectorizer = TfidfVectorizer(ngram_range=(1, 2))\n",
    "\n",
    "    # Store and fit data, stack tuned params\n",
    "    reviewTextTrain = revVectorizer.fit_transform(xdTrain)\n",
    "    trainCap = sumVectorizer.fit_transform(xsTrain)\n",
    "    stack = hstack((reviewTextTrain, trainCap))\n",
    "    \n",
    "    # Transform test data and stack\n",
    "    dT = revVectorizer.transform(xdTest)\n",
    "    sT = sumVectorizer.transform(xsTest)\n",
    "    fT = hstack((dT, sT))\n",
    "    \n",
    "    # Run perceptron \n",
    "    perceptron = Perceptron(max_iter=10000)\n",
    "    perceptron.fit(stack, y_cutoff)\n",
    "\n",
    "    # Store and return predicted y values\n",
    "    yPredicted = perceptron.predict(fT)\n",
    "    \n",
    "    return yPredicted\n",
    "\n",
    "# Print relevant perceptron data\n",
    "print('Binary Perceptron\\n\\n')\n",
    "for cutoff in range(1, 5):\n",
    "    print('Cutoff:', cutoff)\n",
    "    binary_cv(binary_perceptron, cutoff)"
   ]
  },
  {
   "cell_type": "markdown",
   "metadata": {},
   "source": [
    "## Multiclass Classification\n",
    "\n",
    "#### Multiclass cross validation"
   ]
  },
  {
   "cell_type": "code",
   "execution_count": 89,
   "metadata": {},
   "outputs": [],
   "source": [
    "def multiclass_cv(model):\n",
    "    # Store number of folds as per spec\n",
    "    num_folds = 5\n",
    "\n",
    "    # Initialise results\n",
    "    results = {\n",
    "        'accuracy': np.zeros(num_folds),\n",
    "        'precision': np.zeros(num_folds),\n",
    "        'recall': np.zeros(num_folds),\n",
    "        'f1': np.zeros(num_folds),\n",
    "        'confusion': np.zeros((num_folds, 5, 5)),\n",
    "        'rocauc': np.zeros(num_folds)\n",
    "    }\n",
    "    # Fold data\n",
    "    fold = KFold(n_splits=num_folds)\n",
    "\n",
    "    # Iterate through test and train indices\n",
    "    for i, (train_index, test_index) in enumerate(fold.split(training)):\n",
    "        \n",
    "        # Split the data into training and test sets\n",
    "        train_data = training.loc[train_index]\n",
    "        test_data = training.loc[test_index]\n",
    "\n",
    "        # Store predictions and labels\n",
    "        predictions, prob = model(train_data, test_data)\n",
    "        labels = np.array(test_data['overall'])\n",
    "\n",
    "        # Store evaluation metrics on the data\n",
    "        precision, recall, f1, _ = precision_recall_fscore_support(labels, predictions, average='macro', zero_division=1)\n",
    "        accuracy = accuracy_score(labels, predictions)\n",
    "        rocauc = roc_auc_score(labels, prob, multi_class='ovr')\n",
    "        confusion = confusion_matrix(labels, predictions)\n",
    "\n",
    "        # Store the relevant in results\n",
    "        results['accuracy'][i] = accuracy\n",
    "        results['precision'][i] = precision\n",
    "        results['recall'][i] = recall\n",
    "        results['f1'][i] = f1\n",
    "        results['confusion'][i] = confusion\n",
    "        results['rocauc'][i] = rocauc\n",
    "\n",
    "    # Get means for data reporting\n",
    "    f1_mean = np.mean(results['f1'])\n",
    "    accuracy_mean = np.mean(results['accuracy'])\n",
    "    precision_mean = np.mean(results['precision'])\n",
    "    confusion_mean = np.mean(results['confusion'], axis=0)\n",
    "    rocauc_mean = np.mean(results['rocauc'])\n",
    "\n",
    "    # Populate values list for printing data\n",
    "    vals = [f1_mean, accuracy_mean, precision_mean, rocauc_mean]\n",
    "\n",
    "    print('Confusion Matrix (Mean):')\n",
    "    for row in confusion_mean:\n",
    "        print(row)\n",
    "    print(f'F1 Score (Mean): {vals[0]:.4f}')\n",
    "    print(f'Accuracy (Mean): {vals[1]:.4f}')\n",
    "    print(f'Precision (Mean): {vals[2]:.4f}')\n",
    "    print(f'ROC AUC Score (Mean): {vals[3]:.4f}\\n')\n"
   ]
  },
  {
   "cell_type": "code",
   "execution_count": 90,
   "metadata": {},
   "outputs": [],
   "source": [
    "# Preprocess data\n",
    "yTrain, xdTrain, xdTest, xsTrain, xsTest = preprocessing(training, test)\n",
    "\n",
    "# Tuning and storing\n",
    "revVectorizer = TfidfVectorizer(ngram_range=(1, 2), max_df=0.99, min_df=0.15)\n",
    "sumVectorizer = TfidfVectorizer(ngram_range=(1, 2))\n",
    "\n",
    "# Stack features appropriately\n",
    "reviewTextTrain = revVectorizer.fit_transform(xdTrain)\n",
    "trainCap = sumVectorizer.fit_transform(xsTrain)\n",
    "trainedFeatures = hstack((reviewTextTrain, trainCap))"
   ]
  },
  {
   "cell_type": "markdown",
   "metadata": {},
   "source": [
    "#### Multiclass Logistic Regression"
   ]
  },
  {
   "cell_type": "code",
   "execution_count": 91,
   "metadata": {},
   "outputs": [
    {
     "name": "stdout",
     "output_type": "stream",
     "text": [
      "Multiclass Logistic Regression\n",
      "\n",
      "Confusion Matrix (Mean):\n",
      "[1031.8   85.6   31.4   25.    17.6]\n",
      "[102.6 965.   70.2  34.   20. ]\n",
      "[ 52.4  79.8 934.6  64.6  41. ]\n",
      "[ 27.2  32.   59.6 937.6  97.4]\n",
      "[ 21.2  17.2  25.6  80.4 984. ]\n",
      "F1 Score (Mean): 0.8250\n",
      "Accuracy (Mean): 0.8313\n",
      "Precision (Mean): 0.8214\n",
      "ROC AUC Score (Mean): 0.9615\n",
      "\n"
     ]
    }
   ],
   "source": [
    "def multiclass_logistic_regression(train, test):\n",
    "    # Preprocess and tune\n",
    "    yTrain, xdTrain, xdTest, xsTrain, xsTest = preprocessing(training, test)\n",
    "    revVectorizer = TfidfVectorizer(ngram_range = (1, 2), max_df = 0.99, min_df = 0.15) \n",
    "    sumVectorizer = TfidfVectorizer(ngram_range = (1, 2)) \n",
    "    \n",
    "    # Store and fit train data, stack parmas\n",
    "    reviewTextTrain = revVectorizer.fit_transform(xdTrain)\n",
    "    trainCap = sumVectorizer.fit_transform(xsTrain)\n",
    "    stack = hstack((reviewTextTrain, trainCap))\n",
    "    \n",
    "    # Transform test data and stack \n",
    "    dT = revVectorizer.transform(xdTest)\n",
    "    sT = sumVectorizer.transform(xsTest)\n",
    "    fT = hstack((dT, sT))\n",
    "    \n",
    "    # Run logistic regression\n",
    "    logisticRegression = LogisticRegression(max_iter=800).fit(stack, yTrain)\n",
    "    \n",
    "    # Store predicted vals and return them\n",
    "    yPred = logisticRegression.predict(fT)\n",
    "    yProb = logisticRegression.predict_proba(fT)\n",
    "    \n",
    "    return yPred, yProb\n",
    "\n",
    "# Print relevant multiclass logistic relevant info\n",
    "print('Multiclass Logistic Regression\\n')\n",
    "multiclass_cv(multiclass_logistic_regression)"
   ]
  },
  {
   "cell_type": "markdown",
   "metadata": {},
   "source": [
    "#### Logistic Regression Plot:"
   ]
  },
  {
   "cell_type": "code",
   "execution_count": 92,
   "metadata": {},
   "outputs": [
    {
     "data": {
      "image/png": "[encoded data removed]",
      "text/plain": [
       "<Figure size 432x288 with 1 Axes>"
      ]
     },
     "metadata": {
      "needs_background": "light"
     },
     "output_type": "display_data"
    }
   ],
   "source": [
    "def logistic_plot(x, y):\n",
    "    # Split data into training and test\n",
    "    xTrain, xTest, yTrain, yTest = train_test_split(x, y, train_size=0.8)\n",
    "    \n",
    "    # Initialize colours for the graph\n",
    "    colors = ['red', 'purple', 'orange', 'green', 'blue']\n",
    "\n",
    "    # Store y Score\n",
    "    yScore = LogisticRegression(max_iter=800).fit(xTrain, yTrain).predict_proba(xTest)  \n",
    "    \n",
    "    # Initialize values to plot\n",
    "    fpr = {}\n",
    "    tpr = {}\n",
    "    rocauc = {}\n",
    "    YTest = []\n",
    "    YScore = []\n",
    "    \n",
    "    # Figure out false positive rate, true positive rate, and ROC AUC for each class\n",
    "    for i in range(5):\n",
    "        fpr[i], tpr[i], _ = roc_curve(yTest, yScore[:, i], pos_label=i+1)\n",
    "        rocauc[i] = auc(fpr[i], tpr[i])\n",
    "        YTest.extend(yTest)\n",
    "        YScore.extend(yScore[:, i])\n",
    "        \n",
    "    # Calculate the overall false positive rate, true positive rate, ROC AUC\n",
    "    fprMean, tprMean, _ = roc_curve(YTest, YScore, pos_label=i+1)\n",
    "    rocaucMean = auc(fprMean, tprMean)\n",
    "    \n",
    "    # Create a figure and axes for the plot\n",
    "    fig, ax = plt.subplots()\n",
    "    \n",
    "    # Plot each class\n",
    "    for i in range(5):\n",
    "        ax.plot(fpr[i], tpr[i], color=colors[i], label='class ' + str(i))\n",
    "    \n",
    "    # Plot average\n",
    "    ax.plot(fprMean, tprMean, color='black', label='mean ROC curve = {0:0.2f}'.format(rocaucMean))\n",
    "    \n",
    "    # Set labels and title\n",
    "    ax.set_title(\"Logistic Regression ROC\")\n",
    "    ax.set_xlabel(\"FPR\")\n",
    "    ax.set_ylabel(\"FNR\")\n",
    "    \n",
    "    # Show the legend\n",
    "    ax.legend()\n",
    "    \n",
    "    # Display the plot\n",
    "    plt.show()\n",
    "\n",
    "logistic_plot(trainedFeatures, yTrain)\n"
   ]
  },
  {
   "cell_type": "markdown",
   "metadata": {},
   "source": [
    "#### Linear SVC"
   ]
  },
  {
   "cell_type": "code",
   "execution_count": 93,
   "metadata": {},
   "outputs": [
    {
     "name": "stdout",
     "output_type": "stream",
     "text": [
      "Multiclass Linear SVC\n",
      "\n",
      "Confusion Matrix (Mean):\n",
      "[1133.2   48.     4.6    2.     3.6]\n",
      "[  52.  1108.    25.4    2.8    3.6]\n",
      "[  10.    34.2 1090.4   26.4   11.4]\n",
      "[   2.     4.    16.8 1085.4   45.6]\n",
      "[1.0000e+00 1.2000e+00 2.8000e+00 3.3800e+01 1.0896e+03]\n",
      "F1 Score (Mean): 0.9409\n",
      "Accuracy (Mean): 0.9433\n",
      "Precision (Mean): 0.9388\n",
      "ROC AUC Score (Mean): 0.9912\n",
      "\n"
     ]
    }
   ],
   "source": [
    "def multiclass_linearsvc(train, test):\n",
    "    # Preprocess and tune\n",
    "    yTrain, xdTrain, xdTest, xsTrain, xsTest = preprocessing(training, test)\n",
    "    revVectorizer = TfidfVectorizer(ngram_range = (1, 2), max_df = 0.99, min_df = 0.15) \n",
    "    sumVectorizer = TfidfVectorizer(ngram_range = (1, 2)) \n",
    "    \n",
    "    # Transform and stack strain data\n",
    "    reviewTextTrain = revVectorizer.fit_transform(xdTrain)\n",
    "    trainCap = sumVectorizer.fit_transform(xsTrain)\n",
    "    stack = hstack((reviewTextTrain, trainCap))\n",
    "    \n",
    "    # Transform and stack test data\n",
    "    dT = revVectorizer.transform(xdTest)\n",
    "    sT = sumVectorizer.transform(xsTest)\n",
    "    fT = hstack((dT, sT))\n",
    "    \n",
    "    # Run linear svc\n",
    "    linearSVC = LinearSVC(max_iter=800).fit(stack, yTrain)\n",
    "    \n",
    "    # Store and return y pred and prob\n",
    "    yPred = linearSVC.predict(fT)\n",
    "    yProb = CalibratedClassifierCV(linearSVC).fit(stack, yTrain).predict_proba(fT)\n",
    "    \n",
    "    return yPred, yProb\n",
    "\n",
    "# Print relevant multiclass linear SVC info\n",
    "print('Multiclass Linear SVC\\n')\n",
    "multiclass_cv(multiclass_linearsvc)"
   ]
  },
  {
   "cell_type": "markdown",
   "metadata": {},
   "source": [
    "#### Linear SVC plot"
   ]
  },
  {
   "cell_type": "code",
   "execution_count": 94,
   "metadata": {},
   "outputs": [
    {
     "data": {
      "image/png": "[encoded data removed]",
      "text/plain": [
       "<Figure size 432x288 with 1 Axes>"
      ]
     },
     "metadata": {
      "needs_background": "light"
     },
     "output_type": "display_data"
    }
   ],
   "source": [
    "def linear_plot(x, y):\n",
    "    # Split data into training and test\n",
    "    xTrain, xTest, yTrain, yTest = train_test_split(x, y, train_size=0.8)\n",
    "    \n",
    "    # Initialize colours for the graph\n",
    "    colors = ['red', 'purple', 'orange', 'green', 'blue']\n",
    "\n",
    "    # Store y Score\n",
    "    yScore = CalibratedClassifierCV(LinearSVC(max_iter=800)).fit(xTrain, yTrain).predict_proba(xTest)  \n",
    "\n",
    "    # Initialize values to plot\n",
    "    fpr = {}\n",
    "    tpr = {}\n",
    "    rocauc = {}\n",
    "    YTest = []\n",
    "    YScore = []\n",
    "    \n",
    "    # Individual curves\n",
    "    for i in range(5):\n",
    "        fpr[i], tpr[i], _ = roc_curve(yTest, yScore[:, i], pos_label=i+1)\n",
    "        rocauc[i] = auc(fpr[i], tpr[i])\n",
    "        \n",
    "        YTest.extend(yTest)\n",
    "        YScore.extend(yScore[:, i])\n",
    "        \n",
    "    # Calculate the overall false positive rate, true positive rate, ROC AUC\n",
    "    fprMean, tprMean, _ = roc_curve(YTest, YScore, pos_label=i+1)\n",
    "    rocaucMean = auc(fprMean, tprMean)\n",
    "    \n",
    "    # Create a figure and axes for the plot\n",
    "    fig, ax = plt.subplots()\n",
    "            \n",
    "    # Individual curves\n",
    "    for i in range(5):\n",
    "        ax.plot(fpr[i], tpr[i], color=colors[i], label='class ' + str(i))\n",
    "    \n",
    "    # Average curve\n",
    "    ax.plot(fprMean, tprMean, color='black', label='mean ROC curve = {0:0.2f}'.format(rocaucMean))\n",
    "    \n",
    "    # Set labels and title\n",
    "    ax.set_title(\"Linear SVC ROC\")\n",
    "    ax.set_xlabel(\"FPR\")\n",
    "    ax.set_ylabel(\"FNR\")\n",
    "    \n",
    "    # Show the legend\n",
    "    ax.legend()\n",
    "    \n",
    "    # Display the plot\n",
    "    plt.show()\n",
    "\n",
    "linear_plot(trainedFeatures, yTrain)"
   ]
  },
  {
   "cell_type": "markdown",
   "metadata": {},
   "source": [
    "#### Perceptron"
   ]
  },
  {
   "cell_type": "code",
   "execution_count": 95,
   "metadata": {},
   "outputs": [
    {
     "name": "stdout",
     "output_type": "stream",
     "text": [
      "Multiclass Perceptron\n",
      "\n",
      "Confusion Matrix (Mean):\n",
      "[1109.2   62.4   12.2    3.     4.6]\n",
      "[  47.4 1093.4   41.6    5.2    4.2]\n",
      "[  11.2   20.8 1108.2   23.     9.2]\n",
      "[   1.6    3.2   26.8 1079.8   42.4]\n",
      "[   1.8    1.2    8.    44.2 1073.2]\n",
      "F1 Score (Mean): 0.9335\n",
      "Accuracy (Mean): 0.9359\n",
      "Precision (Mean): 0.9312\n",
      "ROC AUC Score (Mean): 0.9940\n",
      "\n"
     ]
    }
   ],
   "source": [
    "def multiclass_perceptron(train, test):\n",
    "    # Preprocess and utne\n",
    "    yTrain, xdTrain, xdTest, xsTrain, xsTest = preprocessing(training, test)\n",
    "    revVectorizer = TfidfVectorizer(ngram_range = (1, 2), max_df = 0.99, min_df = 0.15) \n",
    "    sumVectorizer = TfidfVectorizer(ngram_range = (1, 2)) \n",
    "    \n",
    "    # Transform and stack train data\n",
    "    reviewTextTrain = revVectorizer.fit_transform(xdTrain)\n",
    "    trainCap = sumVectorizer.fit_transform(xsTrain)\n",
    "    trainedFeatures = hstack((reviewTextTrain, trainCap))\n",
    "\n",
    "    # Transform and stack test data   \n",
    "    dT = revVectorizer.transform(xdTest)\n",
    "    sT = sumVectorizer.transform(xsTest)\n",
    "    fT = hstack((dT, sT))\n",
    "    \n",
    "    # Run perceptron\n",
    "    perceptron = Perceptron(max_iter=800).fit(trainedFeatures, yTrain)\n",
    "    \n",
    "    # Store and return yPred and yProb\n",
    "    yPred = perceptron.predict(fT)\n",
    "    yProb = CalibratedClassifierCV(perceptron).fit(trainedFeatures, yTrain).predict_proba(fT)\n",
    "    \n",
    "    return yPred, yProb\n",
    "\n",
    "# Print relevant perceptron info\n",
    "print('Multiclass Perceptron\\n')\n",
    "multiclass_cv(multiclass_perceptron)"
   ]
  },
  {
   "cell_type": "code",
   "execution_count": 96,
   "metadata": {},
   "outputs": [
    {
     "data": {
      "image/png": "[encoded data removed]",
      "text/plain": [
       "<Figure size 432x288 with 1 Axes>"
      ]
     },
     "metadata": {
      "needs_background": "light"
     },
     "output_type": "display_data"
    }
   ],
   "source": [
    "def perceptron_plot(x, y):\n",
    "    # Split data into training and test\n",
    "    xTrain, xTest, yTrain, yTest = train_test_split(x, y, train_size=0.8)\n",
    "\n",
    "    # Initialize colors for the graph\n",
    "    colors = ['red', 'purple', 'orange', 'green', 'blue']\n",
    "\n",
    "    # Store y Score\n",
    "    yScore = CalibratedClassifierCV(Perceptron(max_iter=800)).fit(xTrain, yTrain).predict_proba(xTest)\n",
    "\n",
    "    # Initialize values to plot\n",
    "    fpr = {}\n",
    "    tpr = {}\n",
    "    rocauc = {}\n",
    "    YTest = []\n",
    "    YScore = []\n",
    "\n",
    "    # Individual curves\n",
    "    for i in range(5):\n",
    "        fpr[i], tpr[i], _ = roc_curve(yTest, yScore[:, i], pos_label=i + 1)\n",
    "        rocauc[i] = auc(fpr[i], tpr[i])\n",
    "\n",
    "        YTest.extend(yTest)\n",
    "        YScore.extend(yScore[:, i])\n",
    "\n",
    "    # Calculate the overall false positive rate, true positive rate, ROC AUC\n",
    "    fprMean, tprMean, _ = roc_curve(YTest, YScore, pos_label=i + 1)\n",
    "    rocaucMean = auc(fprMean, tprMean)\n",
    "\n",
    "    # Create a figure and axes for the plot\n",
    "    fig, ax = plt.subplots()\n",
    "\n",
    "    # Individual curves\n",
    "    for i in range(5):\n",
    "        ax.plot(fpr[i], tpr[i], color=colors[i],\n",
    "                label='class ' + str(i))\n",
    "\n",
    "    # Average curve\n",
    "    ax.plot(fprMean, tprMean, color='black', label='mean ROC curve = {0:0.2f}'.format(rocaucMean))\n",
    "\n",
    "    # Set labels and title\n",
    "    ax.set_title(\"Perceptron ROC\")\n",
    "    ax.set_xlabel(\"FPR\")\n",
    "    ax.set_ylabel(\"FNR\")\n",
    "\n",
    "    # Show the legend\n",
    "    ax.legend()\n",
    "\n",
    "    # Display the plot\n",
    "    plt.show()\n",
    "\n",
    "\n",
    "perceptron_plot(trainedFeatures, yTrain)\n"
   ]
  },
  {
   "cell_type": "markdown",
   "metadata": {},
   "source": [
    "### Clustering"
   ]
  },
  {
   "cell_type": "code",
   "execution_count": 97,
   "metadata": {},
   "outputs": [
    {
     "name": "stdout",
     "output_type": "stream",
     "text": [
      "Silhouette Score (reviewText):  0.8211435446568216\n",
      "Rand Score (reviewText and categories):  0.6416469832802351\n"
     ]
    }
   ],
   "source": [
    "# Read data\n",
    "clusterTest = pd.read_csv('Test.csv', sep=',', header=0).fillna('')\n",
    "\n",
    "# Store review text and categories\n",
    "x = clusterTest['reviewText']\n",
    "categories = clusterTest['category']\n",
    "\n",
    "# TF-IDF vectorization, tuning\n",
    "cVectorizer = TfidfVectorizer(stop_words='english', max_df=0.99, min_df=0.15)\n",
    "xFeatures = cVectorizer.fit_transform(x)\n",
    "\n",
    "# Use k-means clustering on the review text\n",
    "kmeans_reviewText = KMeans(n_clusters=len(set(categories))).fit(xFeatures)\n",
    "\n",
    "# Use K-means clustering on the categories\n",
    "cVectorizer_categories = TfidfVectorizer(stop_words='english')\n",
    "cFeatures = cVectorizer_categories.fit_transform(categories)\n",
    "kmeans_categories = KMeans(n_clusters=len(set(categories))).fit(cFeatures)\n",
    "\n",
    "# Store the Silhouette score of reviewText clustering\n",
    "silhouette_score_reviewText = silhouette_score(xFeatures, kmeans_reviewText.labels_)\n",
    "\n",
    "# Store Rand score of the two clusterings\n",
    "rand_score_categories = rand_score(kmeans_reviewText.labels_, kmeans_categories.labels_)\n",
    "\n",
    "# Print the relevant info\n",
    "print(\"Silhouette Score (reviewText): \", silhouette_score_reviewText)\n",
    "print(\"Rand Score (reviewText and categories): \", rand_score_categories)"
   ]
  },
  {
   "cell_type": "markdown",
   "metadata": {},
   "source": [
    "#### Kaggle"
   ]
  },
  {
   "cell_type": "code",
   "execution_count": 98,
   "metadata": {},
   "outputs": [],
   "source": [
    "# Read in the data\n",
    "test = pd.read_csv('Test.csv',sep=',',header=0)\n",
    "\n",
    "# cutoffs\n",
    "for i in range(1, 5):\n",
    "    testPredicted = binary_linear_svc(training, test, i) #linear svc - best performing\n",
    "    testFile = 'Binary_Classifier_' + str(i) + 'Submission.csv'\n",
    "    submission = pd.DataFrame({'id': range(len(testPredicted)), 'binary_split_' + str(i): testPredicted}).to_csv(f'{testFile}', index=False)"
   ]
  },
  {
   "cell_type": "code",
   "execution_count": 100,
   "metadata": {},
   "outputs": [],
   "source": [
    "# code sourced from Kaggle video\n",
    "test = pd.read_csv('Test.csv', sep = ',', header = 0)\n",
    "\n",
    "yPredicted, yProbability = multiclass_linearsvc(training, test) #linear svc - best performing\n",
    "testFile = 'Multiclass_Classifier_Submission.csv'\n",
    "submission = pd.DataFrame({'id': range(len(testPredicted)), 'label': yPredicted})\n",
    "\n",
    "submission.to_csv(f'{testFile}', index=False)"
   ]
  }
 ],
 "metadata": {
  "interpreter": {
   "hash": "be81b389dc34c40047455b168e2f112ad8f85b49e6cf985e5e23b29059012dbf"
  },
  "kernelspec": {
   "display_name": "Python 3.9.7 64-bit ('base': conda)",
   "name": "python3"
  },
  "language_info": {
   "codemirror_mode": {
    "name": "ipython",
    "version": 3
   },
   "file_extension": ".py",
   "mimetype": "text/x-python",
   "name": "python",
   "nbconvert_exporter": "python",
   "pygments_lexer": "ipython3",
   "version": "3.9.7"
  }
 },
 "nbformat": 4,
 "nbformat_minor": 5
}
